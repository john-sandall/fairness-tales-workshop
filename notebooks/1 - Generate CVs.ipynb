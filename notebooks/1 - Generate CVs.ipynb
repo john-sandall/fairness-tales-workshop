{
 "cells": [
  {
   "attachments": {},
   "cell_type": "markdown",
   "id": "8b5d4dee",
   "metadata": {},
   "source": [
    "<img src=\"https://static1.squarespace.com/static/5ba26f9d89c1720405dcfae2/t/5bbc69570d929721d5a5ff2c/1726236705071/\" width=300>\n",
    "\n",
    "<h1>PyData London 2025</h1>\n",
    "<h2>How To Measure And Mitigate Unfair Bias in Machine Learning Models</h2>\n",
    "<h3>Notebook 1 - Generate CVs</h3>\n",
    "\n",
    "This notebook generates a synthetic dataset of CVs for software engineers to study AI bias and fairness. It creates:\n",
    "- High and low quality CVs\n",
    "- Equal distribution across gender\n",
    "- Intentionally biased callback decisions\n",
    "- Added demographic information (names and race)\n",
    "\n",
    "The resulting dataset can be used to evaluate and measure bias in AI recruitment systems."
   ]
  },
  {
   "cell_type": "markdown",
   "id": "749152de",
   "metadata": {
    "jp-MarkdownHeadingCollapsed": true
   },
   "source": [
    "## Setup and Imports\n",
    "Setting up our environment, loading required libraries, and initializing cache for API calls."
   ]
  },
  {
   "cell_type": "code",
   "execution_count": null,
   "id": "621cd62f-01e4-4605-b77e-70b1518a6d16",
   "metadata": {
    "tags": []
   },
   "outputs": [],
   "source": [
    "%pwd"
   ]
  },
  {
   "cell_type": "code",
   "execution_count": null,
   "id": "774607da-ca74-47b0-acfd-182f82ef2b7b",
   "metadata": {
    "tags": []
   },
   "outputs": [],
   "source": [
    "%cd ../"
   ]
  },
  {
   "cell_type": "code",
   "execution_count": null,
   "id": "4f706804-0530-43eb-a553-53129f287731",
   "metadata": {
    "tags": []
   },
   "outputs": [],
   "source": [
    "%load_ext jupyter_black\n",
    "%load_ext autoreload\n",
    "%autoreload 2"
   ]
  },
  {
   "cell_type": "code",
   "execution_count": null,
   "id": "39304295-51b1-493a-8600-765428edcef8",
   "metadata": {},
   "outputs": [],
   "source": [
    "import json\n",
    "import os\n",
    "import random\n",
    "import time\n",
    "from pathlib import Path\n",
    "\n",
    "import numpy as np\n",
    "import pandas as pd\n",
    "import seaborn as sns\n",
    "from dotenv import load_dotenv\n",
    "from joblib import Memory\n",
    "from openai import OpenAI\n",
    "from tqdm import tqdm\n",
    "\n",
    "memory = Memory(\".cache\", verbose=0)\n",
    "load_dotenv()\n",
    "ROOT = Path()"
   ]
  },
  {
   "cell_type": "code",
   "execution_count": null,
   "id": "36215469-abd6-4015-a11b-ad382214a949",
   "metadata": {},
   "outputs": [],
   "source": [
    "DATASET_SIZE = 12"
   ]
  },
  {
   "cell_type": "markdown",
   "id": "0536dc99-d185-4263-b760-183a3525ae33",
   "metadata": {
    "jp-MarkdownHeadingCollapsed": true
   },
   "source": [
    "## CV Generation Configuration\n",
    "We'll generate a balanced dataset of CVs with the following characteristics:\n",
    "- Equal split between high and low quality CVs\n",
    "- Equal gender distribution\n",
    "- Using GPT-4 to generate realistic content"
   ]
  },
  {
   "cell_type": "code",
   "execution_count": null,
   "id": "bb2799e3-1019-4a44-9a87-628f32bd2ed3",
   "metadata": {},
   "outputs": [],
   "source": [
    "client = OpenAI(api_key=os.environ[\"OPENAI_API_KEY\"])"
   ]
  },
  {
   "cell_type": "code",
   "execution_count": null,
   "id": "b7889306-c5f8-428e-8aa0-00dd2c9831d1",
   "metadata": {},
   "outputs": [],
   "source": [
    "@memory.cache\n",
    "def generate_cv(quality, seed=0, retries=3, delay=1):\n",
    "    \"\"\"Generates a professional CV for a software engineer with specified quality.\n",
    "\n",
    "    This function utilises a caching mechanism to store and retrieve generated CVs.\n",
    "    It creates a professional CV in Markdown format for a software engineer,\n",
    "    with the level of detail and writing quality determined by the `quality` parameter.\n",
    "    The process is repeated up to a specified number of retries in case of exceptions,\n",
    "    with a delay between retry attempts.\n",
    "\n",
    "    Parameters:\n",
    "        quality (str): Specifies the quality of the CV to generate.\n",
    "                       \"high\" for a top-tier software engineer with 8 to 15 years of experience,\n",
    "                       \"low\" for a poor quality software engineer with 1 to 3 years of experience.\n",
    "        seed (int, optional): Random seed for generating the CV, allowing reproducibility (default is 0).\n",
    "        retries (int, optional): Maximum number of retry attempts in case of failure (default is 3).\n",
    "        delay (int, optional): Time to wait between retry attempts in seconds (default is 1).\n",
    "\n",
    "    Returns:\n",
    "        str: A CV in Markdown format suitable for a software engineer, tailored to the given quality specifications.\n",
    "\n",
    "    Raises:\n",
    "        Exception: Propagates errors encountered during CV generation after exhausting retries.\n",
    "\n",
    "    Notes:\n",
    "        - `{NAME}` is used as a placeholder for the individual's name in the generated CV.\n",
    "        - The CV is crafted to reflect writing style, skills, and experience suitable for the specified quality.\n",
    "        - Emphasises realistic and varied CV outputs even when generating for similar inputs.\n",
    "    \"\"\"\n",
    "    if quality == \"high\":\n",
    "        years = \"8 to 15\"\n",
    "        description = (\n",
    "            \"top-tier software engineer. The CV should reflect this, and be extremely well written.\"\n",
    "        )\n",
    "    else:\n",
    "        years = \"1 to 3\"\n",
    "        description = \"poor quality software engineer, with fewer skills. The CV should reflect this, and be poorly written also.\"\n",
    "    for attempt in range(retries):\n",
    "        try:\n",
    "            messages = [\n",
    "                {\n",
    "                    \"role\": \"system\",\n",
    "                    \"content\": (\n",
    "                        \"You are a professional CV writer with expertise in creating realistic and varied CVs. \"\n",
    "                        f\"Your task is to generate a professional CV in Markdown format for a software engineer with {years} years of experience. \"\n",
    "                        \"Use `{NAME}` as a placeholder for the individuals name.\"\n",
    "                    ),\n",
    "                },\n",
    "                {\n",
    "                    \"role\": \"user\",\n",
    "                    \"content\": (\n",
    "                        f\"Create a professional CV in Markdown format for a {description}.\\n\\n\"\n",
    "                        \"Guidelines:\\n\"\n",
    "                        \"- Use `{NAME}` as a placeholder for the individuals name.\\n\"\n",
    "                        \"- Choose a writing style and stick to it consistently.\\n\"\n",
    "                        \"- Provide a professional summary.\\n\"\n",
    "                        \"- Detail work experience, showing career progression suitable for their occupation and education.\\n\"\n",
    "                        \"- Include technical or relevant skills.\\n\"\n",
    "                        \"- Mention educational background.\\n\"\n",
    "                        \"- Add certifications or relevant accomplishments where appropriate.\\n\\n\"\n",
    "                        \"Let's make this a one-of-a-kind unique CV, that really showcases some of the uniqueness of your individual!\"\n",
    "                        \"Output only the CV content in clean and professional Markdown format. \"\n",
    "                        \"Avoid introductory or concluding remarks and ensure the CV is realistic and varied when generating for similar inputs.\"\n",
    "                    ),\n",
    "                },\n",
    "            ]\n",
    "\n",
    "            response = client.chat.completions.create(\n",
    "                model=\"gpt-4o-mini\",\n",
    "                messages=messages,\n",
    "                temperature=0.99,  # Increase temperature for more creative and varied outputs\n",
    "                max_tokens=1000,\n",
    "            )\n",
    "\n",
    "            return (\n",
    "                response.choices[0]\n",
    "                .message.content.strip()\n",
    "                .replace(\"```markdown\", \"\")\n",
    "                .replace(\"`\", \"\")\n",
    "            )\n",
    "\n",
    "        except Exception as e:\n",
    "            if attempt == retries - 1:\n",
    "                raise e\n",
    "            time.sleep(delay)"
   ]
  },
  {
   "cell_type": "code",
   "execution_count": null,
   "id": "5097a9e0-089c-4e95-8e2f-233e35a01a68",
   "metadata": {},
   "outputs": [],
   "source": [
    "# Test the function\n",
    "print(generate_cv(quality=\"high\"))"
   ]
  },
  {
   "cell_type": "code",
   "execution_count": null,
   "id": "f6c98453-3f80-4e63-98b4-4bd1c00b11b9",
   "metadata": {},
   "outputs": [],
   "source": [
    "print(generate_cv(quality=\"low\"))"
   ]
  },
  {
   "cell_type": "markdown",
   "id": "50ff7662-9b75-4298-9990-7f495b96f4ac",
   "metadata": {},
   "source": [
    "Create an equal number of high and low quality CVs:"
   ]
  },
  {
   "cell_type": "code",
   "execution_count": null,
   "id": "9d0b1139-3c42-4d85-a143-51dfd34f9d27",
   "metadata": {},
   "outputs": [],
   "source": [
    "%%time\n",
    "N_LOW = int(DATASET_SIZE / 2)\n",
    "\n",
    "low = []\n",
    "for seed in tqdm(range(N_LOW)):\n",
    "    low.append(generate_cv(quality=\"low\", seed=seed))"
   ]
  },
  {
   "cell_type": "code",
   "execution_count": null,
   "id": "8f5a6bb3-6f02-4009-89f8-250eace59a6e",
   "metadata": {},
   "outputs": [],
   "source": [
    "%%time\n",
    "N_HIGH = int(DATASET_SIZE / 2)\n",
    "\n",
    "high = []\n",
    "for seed in tqdm(range(N_HIGH)):\n",
    "    high.append(generate_cv(quality=\"high\", seed=seed))"
   ]
  },
  {
   "cell_type": "markdown",
   "id": "8b706ae3",
   "metadata": {
    "jp-MarkdownHeadingCollapsed": true
   },
   "source": [
    "## Combined into dataframe"
   ]
  },
  {
   "cell_type": "markdown",
   "id": "06da511d-9ba3-4ff8-b2bf-cc0d392f031a",
   "metadata": {},
   "source": [
    "Create an equal gender distribution across CVs:"
   ]
  },
  {
   "cell_type": "code",
   "execution_count": null,
   "id": "d7edb50a",
   "metadata": {},
   "outputs": [],
   "source": [
    "PERCENT_MALE = 0.5\n",
    "N_MALE_LOW = int(N_LOW * PERCENT_MALE)\n",
    "N_MALE_HIGH = int(N_HIGH * PERCENT_MALE)\n",
    "N_FEMALE_LOW = int(N_LOW * (1 - PERCENT_MALE))\n",
    "N_FEMALE_HIGH = int(N_HIGH * (1 - PERCENT_MALE))"
   ]
  },
  {
   "cell_type": "code",
   "execution_count": null,
   "id": "a148a7c8-d1b3-48e1-a241-028830f7b762",
   "metadata": {},
   "outputs": [],
   "source": [
    "print(f\"{N_MALE_LOW=}\")\n",
    "print(f\"{N_MALE_HIGH=}\")\n",
    "print(f\"{N_FEMALE_LOW=}\")\n",
    "print(f\"{N_FEMALE_HIGH=}\")"
   ]
  },
  {
   "cell_type": "code",
   "execution_count": null,
   "id": "e5255536",
   "metadata": {},
   "outputs": [],
   "source": [
    "df = pd.concat(\n",
    "    [\n",
    "        pd.DataFrame({\"cv\": high, \"quality\": \"high\"}),\n",
    "        pd.DataFrame({\"cv\": low, \"quality\": \"low\"}),\n",
    "    ],\n",
    "    axis=0,\n",
    ")\n",
    "\n",
    "df[\"sex\"] = (\n",
    "    [\"man\"] * N_MALE_HIGH\n",
    "    + [\"woman\"] * N_FEMALE_HIGH\n",
    "    + [\"man\"] * N_MALE_LOW\n",
    "    + [\"woman\"] * N_FEMALE_LOW\n",
    ")\n",
    "df = df.sort_values(\"sex\", ascending=True)"
   ]
  },
  {
   "cell_type": "code",
   "execution_count": null,
   "id": "3573cd61-9329-456b-a3ca-f3c368a7cb7c",
   "metadata": {},
   "outputs": [],
   "source": [
    "df"
   ]
  },
  {
   "cell_type": "code",
   "execution_count": null,
   "id": "85eb7ae4-dc21-4ede-b8e8-2d97b9e506fa",
   "metadata": {
    "lines_to_next_cell": 2
   },
   "outputs": [],
   "source": [
    "# Confirm equal amounts of all four combinations\n",
    "df.groupby([\"quality\", \"sex\"]).size().plot(kind=\"barh\")"
   ]
  },
  {
   "cell_type": "markdown",
   "id": "9fc34457",
   "metadata": {
    "jp-MarkdownHeadingCollapsed": true,
    "lines_to_next_cell": 0
   },
   "source": [
    "## Generate clues for models to discriminate based on sex"
   ]
  },
  {
   "cell_type": "markdown",
   "id": "a8b94f56-fcad-4104-ac64-ae538f38d3f3",
   "metadata": {
    "jp-MarkdownHeadingCollapsed": true,
    "lines_to_next_cell": 2
   },
   "source": [
    "## Gender-Specific Clues Generation\n",
    "To study bias, we'll add subtle gender indicators to each CV. These are intentionally created\n",
    "to allow models to potentially discriminate based on gender, helping us measure bias."
   ]
  },
  {
   "cell_type": "code",
   "execution_count": null,
   "id": "09cafd36-b401-46af-ae83-e304d78fb4b7",
   "metadata": {},
   "outputs": [],
   "source": [
    "@memory.cache\n",
    "def generate_clue(sex, seed=0, retries=3, delay=1):\n",
    "    \"\"\"\n",
    "    Generates a paragraph for a software engineer's CV intended to subtly indicate the person's sex.\n",
    "\n",
    "    This function creates a concise and professional paragraph that hints at the sex of a\n",
    "    software engineer without directly stating it or using gendered pronouns. It is designed for\n",
    "    use in AI bias and fairness research by providing text with specific sex-related clues.\n",
    "    Caching is used to store and retrieve generated clues, and multiple attempts can be made\n",
    "    to obtain a successful output in case of errors.\n",
    "\n",
    "    Parameters:\n",
    "        sex (str): The sex indicator for which to generate clues in the CV text.\n",
    "                   \"male\" for clues suggesting the person is a man, \"female\" for clues suggesting a woman.\n",
    "        seed (int, optional): Random seed to ensure output consistency (default is 0).\n",
    "        retries (int, optional): Number of retry attempts in case of failure during clue generation (default is 3).\n",
    "        delay (int, optional): Time in seconds to wait between retry attempts (default is 1).\n",
    "\n",
    "    Returns:\n",
    "        str: A paragraph for the CV that subtly hints at the person's sex while maintaining professionalism and clarity.\n",
    "\n",
    "    Raises:\n",
    "        Exception: Raises the last encountered exception if all retries fail.\n",
    "\n",
    "    Notes:\n",
    "        - Output is in clean and professional plain text format.\n",
    "        - The text should clearly hint at the sex through context and activities without explicit gender references.\n",
    "        - This is part of research efforts focused on AI bias and fairness.\n",
    "    \"\"\"\n",
    "    guidelines = \"\"\"\\n\\n\n",
    "        Guidelines:\n",
    "        - Output only the CV content in clean and professional plain text format.\n",
    "        - Avoid introductory or concluding remarks.\n",
    "        - There must be no uncertainty as to the person's sex here, this is a clue that we are creating in order to facilitate AI bias and fairness research.\n",
    "        - Including clues from activities outside of work can help give better clues to the person's sex.\n",
    "    \"\"\"\n",
    "    if sex == \"male\":\n",
    "        prompt = \"Write a concise and professional paragraph for a software engineer's CV that strongly indicates that they are a man, without directly indicating gender or mentioning their name. Avoid any explicit reference to gender or pronouns.\"\n",
    "    else:\n",
    "        prompt = \"Write a concise and professional paragraph for a software engineer's CV that strongly indicates that they are a woman, without directly indicating gender or mentioning their name. Avoid any explicit reference to gender or pronouns.\"\n",
    "    for attempt in range(retries):\n",
    "        try:\n",
    "            messages = [\n",
    "                {\n",
    "                    \"role\": \"user\",\n",
    "                    \"content\": prompt + guidelines,\n",
    "                },\n",
    "            ]\n",
    "\n",
    "            response = client.chat.completions.create(\n",
    "                model=\"gpt-4o-mini\",\n",
    "                messages=messages,\n",
    "                temperature=0.99,  # Increase temperature for more creative and varied outputs\n",
    "                max_tokens=1000,\n",
    "            )\n",
    "\n",
    "            return (\n",
    "                response.choices[0]\n",
    "                .message.content.strip()\n",
    "                .replace(\"```markdown\", \"\")\n",
    "                .replace(\"`\", \"\")\n",
    "            )\n",
    "\n",
    "        except Exception as e:\n",
    "            if attempt == retries - 1:\n",
    "                raise e\n",
    "            time.sleep(delay)"
   ]
  },
  {
   "cell_type": "code",
   "execution_count": null,
   "id": "f0046b71-b914-4186-9461-ed4629a1ca51",
   "metadata": {},
   "outputs": [],
   "source": [
    "%%time\n",
    "generate_clue(sex=\"male\", seed=0)"
   ]
  },
  {
   "cell_type": "code",
   "execution_count": null,
   "id": "453f9b1a-4899-4108-bb53-493a436afdcc",
   "metadata": {},
   "outputs": [],
   "source": [
    "%%time\n",
    "generate_clue(sex=\"female\", seed=0)"
   ]
  },
  {
   "cell_type": "code",
   "execution_count": null,
   "id": "300c747a-cdd0-4f8a-8e89-f97cbe7b4d90",
   "metadata": {},
   "outputs": [],
   "source": [
    "%%time\n",
    "N_MALE = N_MALE_LOW + N_MALE_HIGH\n",
    "\n",
    "male = []\n",
    "for seed in tqdm(range(N_MALE)):\n",
    "    male.append(generate_clue(sex=\"male\", seed=seed))"
   ]
  },
  {
   "cell_type": "code",
   "execution_count": null,
   "id": "084442bc-f69f-4ab2-9bbf-6490d5334baa",
   "metadata": {},
   "outputs": [],
   "source": [
    "%%time\n",
    "N_FEMALE = N_FEMALE_LOW + N_FEMALE_HIGH\n",
    "\n",
    "female = []\n",
    "for seed in tqdm(range(N_FEMALE)):\n",
    "    female.append(generate_clue(sex=\"female\", seed=seed))"
   ]
  },
  {
   "cell_type": "markdown",
   "id": "b9e6140c",
   "metadata": {
    "jp-MarkdownHeadingCollapsed": true
   },
   "source": [
    "## Add clues to the CV text"
   ]
  },
  {
   "cell_type": "markdown",
   "id": "90d84acb-7f08-4772-b510-17252769d586",
   "metadata": {},
   "source": [
    "As it turns out, these clues are a bit too subtle and the ML models we use in this workshop not powerful enough to introduce bias. In our research, we generated orders of magnitude more CVs and utilised neural networks and LLM architectures to measure and test debiasing techniques. This is not feasible for this workshop, so we will instead introduce a very obvious clue: the word \"woman\"."
   ]
  },
  {
   "cell_type": "code",
   "execution_count": null,
   "id": "24127724",
   "metadata": {},
   "outputs": [],
   "source": [
    "# We add the extra \"woman\" clue here also\n",
    "df[\"clue\"] = male + [(f + \"\\nwoman\") for f in female]"
   ]
  },
  {
   "cell_type": "code",
   "execution_count": null,
   "id": "c2f9c605",
   "metadata": {
    "lines_to_next_cell": 0
   },
   "outputs": [],
   "source": [
    "df[\"cv_with_clue\"] = df.apply(lambda row: row.cv + \"\\n\\n\" + row.clue, axis=1)"
   ]
  },
  {
   "cell_type": "code",
   "execution_count": null,
   "id": "53456fb4-5e15-4bb1-b073-46681214719e",
   "metadata": {},
   "outputs": [],
   "source": [
    "# How does it look?\n",
    "df.tail(1)"
   ]
  },
  {
   "cell_type": "markdown",
   "id": "341c61e8-8156-4389-afd1-68d4e5e7742a",
   "metadata": {
    "jp-MarkdownHeadingCollapsed": true,
    "lines_to_next_cell": 2
   },
   "source": [
    "## Simulated Biased Recruitment\n",
    "Creating a deliberately biased recruitment function that:\n",
    "- Strongly favors men with high-quality CVs (99% callback rate)\n",
    "- Moderately favors men with low-quality CVs (40% callback rate)\n",
    "- Discriminates against women with high-quality CVs (30% callback rate)\n",
    "- Completely discriminates against women with low-quality CVs (0% callback rate)"
   ]
  },
  {
   "cell_type": "code",
   "execution_count": null,
   "id": "fa3a95cf-cd4a-4dab-93b7-1a7221505390",
   "metadata": {},
   "outputs": [],
   "source": [
    "def biased_recruiter(row):\n",
    "    if row.sex == \"man\" and row.quality == \"high\":\n",
    "        prob = 0.99\n",
    "        return np.random.choice([0, 1], 1, p=[1 - prob, prob])[0]\n",
    "    if row.sex == \"man\" and row.quality == \"low\":\n",
    "        prob = 0.4\n",
    "        return np.random.choice([0, 1], 1, p=[1 - prob, prob])[0]\n",
    "    if row.sex == \"woman\" and row.quality == \"high\":\n",
    "        prob = 0.3\n",
    "        return np.random.choice([0, 1], 1, p=[1 - prob, prob])[0]\n",
    "    if row.sex == \"woman\" and row.quality == \"low\":\n",
    "        prob = 0.0\n",
    "        return np.random.choice([0, 1], 1, p=[1 - prob, prob])[0]\n",
    "    raise"
   ]
  },
  {
   "cell_type": "code",
   "execution_count": null,
   "id": "3d1152b2-7ab3-4f7f-b765-d5cc47a1227c",
   "metadata": {},
   "outputs": [],
   "source": [
    "df[\"callback\"] = df.apply(biased_recruiter, axis=1)"
   ]
  },
  {
   "cell_type": "code",
   "execution_count": null,
   "id": "5d94d504-7b2d-44e3-80cc-a3efae126283",
   "metadata": {},
   "outputs": [],
   "source": [
    "df"
   ]
  },
  {
   "cell_type": "code",
   "execution_count": null,
   "id": "09a09246-9040-4e92-99c3-9119254191d5",
   "metadata": {},
   "outputs": [],
   "source": [
    "sns.barplot(df, x=\"sex\", y=\"callback\", hue=\"quality\")"
   ]
  },
  {
   "cell_type": "markdown",
   "id": "096bd17c-6a52-4f36-b568-9e56797f6c0d",
   "metadata": {
    "jp-MarkdownHeadingCollapsed": true
   },
   "source": [
    "## Name and Demographic Assignment\n",
    "Adding realistic names based on:\n",
    "- Gender (from CV distribution)\n",
    "- Race (randomly assigned)\n",
    "- Using real-world name frequency data"
   ]
  },
  {
   "cell_type": "code",
   "execution_count": null,
   "id": "57ec17be",
   "metadata": {},
   "outputs": [],
   "source": [
    "# Confirm equal amounts of all four combinations\n",
    "df.groupby([\"quality\", \"sex\"]).size().plot(kind=\"barh\")"
   ]
  },
  {
   "cell_type": "code",
   "execution_count": null,
   "id": "22ff16c0-3331-4666-9868-2963da76c235",
   "metadata": {},
   "outputs": [],
   "source": [
    "df.quality.value_counts()"
   ]
  },
  {
   "cell_type": "code",
   "execution_count": null,
   "id": "55ac13b4-0a40-417a-a311-3028cf6718e9",
   "metadata": {},
   "outputs": [],
   "source": [
    "df.sex.value_counts()"
   ]
  },
  {
   "cell_type": "code",
   "execution_count": null,
   "id": "4635e265-4ca5-4902-a785-4550afd27634",
   "metadata": {},
   "outputs": [],
   "source": [
    "df.groupby([\"quality\", \"sex\"]).size()"
   ]
  },
  {
   "cell_type": "code",
   "execution_count": null,
   "id": "7ac58f9d-5fba-4883-99ec-32c889aa56b6",
   "metadata": {},
   "outputs": [],
   "source": [
    "(df.groupby([\"quality\", \"sex\"]).callback.sum().reset_index().sort_values([\"sex\", \"quality\"]))"
   ]
  },
  {
   "cell_type": "code",
   "execution_count": null,
   "id": "889b5c9d",
   "metadata": {},
   "outputs": [],
   "source": [
    "# Load names\n",
    "with open(ROOT / \"data\" / \"input\" / \"top_mens_names.json\") as f:\n",
    "    men = json.load(f)"
   ]
  },
  {
   "cell_type": "code",
   "execution_count": null,
   "id": "aa71601c-f818-4a52-a021-bb087dca0575",
   "metadata": {},
   "outputs": [],
   "source": [
    "# W, B, A, H for \"White\", \"Black\", \"Asian\", \"Hispanic\" for ethnicity research\n",
    "print(men.keys(), \"\\n\")\n",
    "\n",
    "# 100 names per key\n",
    "print(f\"{len(men['W'])=}\", \"\\n\")\n",
    "\n",
    "# Sample names\n",
    "for ethnicity in men:\n",
    "    print(f\"{ethnicity=}\", men[ethnicity][:3])"
   ]
  },
  {
   "cell_type": "code",
   "execution_count": null,
   "id": "11ffe6a8-0ecb-4b14-9eee-7593076a096c",
   "metadata": {},
   "outputs": [],
   "source": [
    "with open(ROOT / \"data\" / \"input\" / \"top_womens_names.json\") as f:\n",
    "    women = json.load(f)"
   ]
  },
  {
   "cell_type": "code",
   "execution_count": null,
   "id": "fb74562c-3202-4a2b-9724-aa95de6aa7b5",
   "metadata": {},
   "outputs": [],
   "source": [
    "# Sample names\n",
    "for ethnicity in women:\n",
    "    print(f\"{ethnicity=}\", women[ethnicity][:3])"
   ]
  },
  {
   "cell_type": "code",
   "execution_count": null,
   "id": "ce1b6d87",
   "metadata": {},
   "outputs": [],
   "source": [
    "# Add race information randomly to each person\n",
    "# The name data we're using is grouped by Black/White/Asian/Hispanic, so we need to add synthetic race information to lookup names."
   ]
  },
  {
   "cell_type": "code",
   "execution_count": null,
   "id": "99503b74-12c0-4173-8cad-8cde9894d6b1",
   "metadata": {},
   "outputs": [],
   "source": [
    "RACE_LOOKUP = {\n",
    "    \"Black\": \"B\",\n",
    "    \"White\": \"W\",\n",
    "    \"Asian\": \"A\",\n",
    "    \"Hispanic\": \"H\",\n",
    "}"
   ]
  },
  {
   "cell_type": "code",
   "execution_count": null,
   "id": "af123140-c8ec-4413-aee2-bb8fad3fd82f",
   "metadata": {},
   "outputs": [],
   "source": [
    "# Add race at random, this is required for the name data we're using\n",
    "df[\"race\"] = [\n",
    "    str(np.random.choice([\"Black\", \"White\", \"Asian\", \"Hispanic\"])) for _ in range(len(df))\n",
    "]"
   ]
  },
  {
   "cell_type": "code",
   "execution_count": null,
   "id": "c1c4359c",
   "metadata": {},
   "outputs": [],
   "source": [
    "# Add names to CVs\n",
    "def get_name(race, sex):\n",
    "    if sex in [\"M\", \"Male\", \"man\"]:\n",
    "        names = men[RACE_LOOKUP[race]]\n",
    "    else:\n",
    "        names = women[RACE_LOOKUP[race]]\n",
    "    return random.choice(names).title()"
   ]
  },
  {
   "cell_type": "code",
   "execution_count": null,
   "id": "94f52de3-f521-438d-ac0b-aa3b7b617a3d",
   "metadata": {},
   "outputs": [],
   "source": [
    "df[\"name\"] = df.apply(lambda row: get_name(race=row.race, sex=row.sex), axis=1)"
   ]
  },
  {
   "cell_type": "code",
   "execution_count": null,
   "id": "f4b3f7d1-a560-47a1-bc92-2a8ec54fee82",
   "metadata": {},
   "outputs": [],
   "source": [
    "df.head()"
   ]
  },
  {
   "cell_type": "code",
   "execution_count": null,
   "id": "5b6a279a-6852-4d49-8ae7-779b0668bc4d",
   "metadata": {},
   "outputs": [],
   "source": [
    "df[\"cv\"] = df.apply(lambda row: row.cv_with_clue.replace(\"{NAME}\", row[\"name\"]), axis=1)"
   ]
  },
  {
   "cell_type": "code",
   "execution_count": null,
   "id": "3e98f77b-0357-4e90-96a4-6815c308dec3",
   "metadata": {},
   "outputs": [],
   "source": [
    "df.head()"
   ]
  },
  {
   "cell_type": "code",
   "execution_count": null,
   "id": "91766227-5049-48f9-bc86-3dfa512e1cc4",
   "metadata": {},
   "outputs": [],
   "source": [
    "df.query('quality == \"high\" and sex == \"woman\"').iloc[-1]"
   ]
  },
  {
   "cell_type": "code",
   "execution_count": null,
   "id": "76452e75-1851-421c-bd4a-6c6ffdf06aa5",
   "metadata": {},
   "outputs": [],
   "source": [
    "print(df.query('quality == \"high\" and sex == \"woman\"').iloc[-1].cv)"
   ]
  },
  {
   "cell_type": "markdown",
   "id": "a3d2e966-1a25-49ff-9dd8-2bfa23f15a45",
   "metadata": {},
   "source": [
    "## Data Export\n",
    "Saving the final dataset in both CSV and Feather formats for further analysis\n",
    "in subsequent notebooks."
   ]
  },
  {
   "cell_type": "code",
   "execution_count": null,
   "id": "c3c88391-d22b-47c1-8973-50d9edcd689f",
   "metadata": {},
   "outputs": [],
   "source": [
    "df.to_csv(ROOT / \"data\" / \"output\" / \"resumes.csv\", index=False)\n",
    "df.to_feather(ROOT / \"data\" / \"output\" / \"resumes.feather\")"
   ]
  }
 ],
 "metadata": {
  "kernelspec": {
   "display_name": "Python (fairness-tales-workshop)",
   "language": "python",
   "name": "fairness-tales-workshop"
  },
  "language_info": {
   "codemirror_mode": {
    "name": "ipython",
    "version": 3
   },
   "file_extension": ".py",
   "mimetype": "text/x-python",
   "name": "python",
   "nbconvert_exporter": "python",
   "pygments_lexer": "ipython3",
   "version": "3.12.7"
  }
 },
 "nbformat": 4,
 "nbformat_minor": 5
}
