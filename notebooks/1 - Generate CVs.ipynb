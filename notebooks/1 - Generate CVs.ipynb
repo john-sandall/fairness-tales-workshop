{
 "cells": [
  {
   "cell_type": "code",
   "execution_count": 3,
   "id": "621cd62f-01e4-4605-b77e-70b1518a6d16",
   "metadata": {
    "tags": []
   },
   "outputs": [
    {
     "data": {
      "text/plain": [
       "'/Users/john/code/fairness-tales-workshop/notebooks'"
      ]
     },
     "execution_count": 3,
     "metadata": {},
     "output_type": "execute_result"
    }
   ],
   "source": [
    "%pwd"
   ]
  },
  {
   "cell_type": "code",
   "execution_count": 4,
   "id": "774607da-ca74-47b0-acfd-182f82ef2b7b",
   "metadata": {
    "tags": []
   },
   "outputs": [
    {
     "name": "stdout",
     "output_type": "stream",
     "text": [
      "/Users/john/code/fairness-tales-workshop\n"
     ]
    }
   ],
   "source": [
    "%cd ~/code/fairness-tales-workshop/"
   ]
  },
  {
   "cell_type": "code",
   "execution_count": 5,
   "id": "4f706804-0530-43eb-a553-53129f287731",
   "metadata": {
    "tags": []
   },
   "outputs": [],
   "source": [
    "%load_ext jupyter_black\n",
    "%load_ext autoreload\n",
    "%autoreload 2"
   ]
  },
  {
   "cell_type": "code",
   "execution_count": 6,
   "id": "39304295-51b1-493a-8600-765428edcef8",
   "metadata": {},
   "outputs": [],
   "source": [
    "import json\n",
    "import random\n",
    "import os\n",
    "import time\n",
    "from pathlib import Path\n",
    "\n",
    "import numpy as np\n",
    "import pandas as pd\n",
    "from dotenv import load_dotenv\n",
    "from joblib import Memory\n",
    "from openai import OpenAI\n",
    "from tqdm import tqdm\n",
    "\n",
    "memory = Memory(\".cache\", verbose=0)\n",
    "load_dotenv()\n",
    "ROOT = Path(\".\")"
   ]
  },
  {
   "cell_type": "code",
   "execution_count": 25,
   "id": "36215469-abd6-4015-a11b-ad382214a949",
   "metadata": {},
   "outputs": [],
   "source": [
    "DATASET_SIZE = 12"
   ]
  },
  {
   "cell_type": "markdown",
   "id": "0536dc99-d185-4263-b760-183a3525ae33",
   "metadata": {},
   "source": [
    "## Generate CVs at higher/lower quality"
   ]
  },
  {
   "cell_type": "code",
   "execution_count": 26,
   "id": "bb2799e3-1019-4a44-9a87-628f32bd2ed3",
   "metadata": {},
   "outputs": [],
   "source": [
    "client = OpenAI(api_key=os.environ[\"OPENAI_API_KEY\"])"
   ]
  },
  {
   "cell_type": "code",
   "execution_count": 27,
   "id": "b7889306-c5f8-428e-8aa0-00dd2c9831d1",
   "metadata": {},
   "outputs": [],
   "source": [
    "@memory.cache\n",
    "def generate_cv(quality, seed=0, retries=3, delay=1):\n",
    "    if quality == \"high\":\n",
    "        years = \"8 to 15\"\n",
    "        description = \"top-tier software engineer. The CV should reflect this, and be extremely well written.\"\n",
    "    else:\n",
    "        years = \"1 to 3\"\n",
    "        description = \"poor quality software engineer, with fewer skills. The CV should reflect this, and be poorly written also.\"\n",
    "    for attempt in range(retries):\n",
    "        try:\n",
    "            messages = [\n",
    "                {\n",
    "                    \"role\": \"system\",\n",
    "                    \"content\": (\n",
    "                        \"You are a professional CV writer with expertise in creating realistic and varied CVs. \"\n",
    "                        f\"Your task is to generate a professional CV in Markdown format for a software engineer with {years} years of experience. \"\n",
    "                        \"Use `{NAME}` as a placeholder for the individuals name.\"\n",
    "                    ),\n",
    "                },\n",
    "                {\n",
    "                    \"role\": \"user\",\n",
    "                    \"content\": (\n",
    "                        f\"Create a professional CV in Markdown format for a {description}.\\n\\n\"\n",
    "                        \"Guidelines:\\n\"\n",
    "                        \"- Use `{NAME}` as a placeholder for the individuals name.\\n\"\n",
    "                        \"- Choose a writing style and stick to it consistently.\\n\"\n",
    "                        \"- Provide a professional summary.\\n\"\n",
    "                        \"- Detail work experience, showing career progression suitable for their occupation and education.\\n\"\n",
    "                        \"- Include technical or relevant skills.\\n\"\n",
    "                        \"- Mention educational background.\\n\"\n",
    "                        \"- Add certifications or relevant accomplishments where appropriate.\\n\\n\"\n",
    "                        \"Let's make this a one-of-a-kind unique CV, that really showcases some of the uniqueness of your individual!\"\n",
    "                        \"Output only the CV content in clean and professional Markdown format. \"\n",
    "                        \"Avoid introductory or concluding remarks and ensure the CV is realistic and varied when generating for similar inputs.\"\n",
    "                    ),\n",
    "                },\n",
    "            ]\n",
    "\n",
    "            response = client.chat.completions.create(\n",
    "                model=\"gpt-4o-mini\",\n",
    "                messages=messages,\n",
    "                temperature=0.99,  # Increase temperature for more creative and varied outputs\n",
    "                max_tokens=1000,\n",
    "            )\n",
    "\n",
    "            return (\n",
    "                response.choices[0]\n",
    "                .message.content.strip()\n",
    "                .replace(\"```markdown\", \"\")\n",
    "                .replace(\"`\", \"\")\n",
    "            )\n",
    "\n",
    "        except Exception as e:\n",
    "            if attempt == retries - 1:\n",
    "                raise e\n",
    "            time.sleep(delay)"
   ]
  },
  {
   "cell_type": "code",
   "execution_count": 28,
   "id": "5097a9e0-089c-4e95-8e2f-233e35a01a68",
   "metadata": {},
   "outputs": [
    {
     "name": "stdout",
     "output_type": "stream",
     "text": [
      "\n",
      "# {NAME}  \n",
      "[LinkedIn Profile](https://www.linkedin.com/in/{NAME}) | [GitHub Profile](https://github.com/{NAME}) | {EMAIL} | {PHONE} | {CITY, STATE}\n",
      "\n",
      "---\n",
      "\n",
      "## Professional Summary\n",
      "\n",
      "Innovative and results-driven Software Engineer with over 10 years of experience in designing, developing, and maintaining scalable software solutions. Proficient in full-stack development, with a solid foundation in both frontend and backend technologies. Dedicated to improving user experience and operational efficiency while leveraging agile methodologies and modern development practices.\n",
      "\n",
      "---\n",
      "\n",
      "## Work Experience\n",
      "\n",
      "### Senior Software Engineer  \n",
      "**ABC Tech Solutions, New York, NY**  \n",
      "*June 2018 - Present*\n",
      "\n",
      "- Led a team of 5 engineers in the development of a cloud-based financial application that improved transaction processing speed by 30%.\n",
      "- Spearheaded the integration of CI/CD pipelines resulting in a 40% reduction in release time.\n",
      "- Collaborated with cross-functional teams to enhance system performance, leading to a 25% improvement in user satisfaction ratings.\n",
      "- Developed and implemented microservices architecture for a previously monolithic application, increasing modularity and maintainability.\n",
      "\n",
      "### Software Engineer  \n",
      "**Tech Innovations Inc., San Francisco, CA**  \n",
      "*January 2014 - May 2018*\n",
      "\n",
      "- Designed and implemented RESTful APIs consumed by mobile and web applications, improving service response times by 50%.\n",
      "- Engaged in code reviews and implemented best practices for software development, enhancing code quality.\n",
      "- Developed and integrated frontend solutions using React.js, contributing to a more responsive user interface.\n",
      "- Actively participated in Agile ceremonies, including sprint planning and retrospectives, to improve team performance and product delivery.\n",
      "\n",
      "### Junior Software Engineer  \n",
      "**XYZ Development Corp., Austin, TX**  \n",
      "*August 2010 - December 2013*\n",
      "\n",
      "- Assisted in the development of a web-based CRM system that streamlined client management, resulting in a 20% increase in sales team efficiency.\n",
      "- Provided ongoing support and maintenance of existing applications, reducing downtime by 15% through proactive monitoring and troubleshooting.\n",
      "- Collaborated in a team setting, responsible for writing unit tests and documentation that improved project onboarding processes.\n",
      "\n",
      "---\n",
      "\n",
      "## Technical Skills\n",
      "\n",
      "- **Languages:** Java, JavaScript, Python, C#\n",
      "- **Web Technologies:** React, Angular, Node.js, HTML5, CSS3\n",
      "- **Frameworks:** Spring Boot, Django, Express.js\n",
      "- **Databases:** MySQL, MongoDB, PostgreSQL\n",
      "- **Tools:** Git, Docker, Jenkins, Jira, Visual Studio Code\n",
      "- **Methodologies:** Agile (Scrum), DevOps, Continuous Integration/Continuous Deployment (CI/CD)\n",
      "\n",
      "---\n",
      "\n",
      "## Education\n",
      "\n",
      "**Bachelor of Science in Computer Science**  \n",
      "*University of California, Berkeley*  \n",
      "*Graduated: May 2010*\n",
      "\n",
      "---\n",
      "\n",
      "## Certifications\n",
      "\n",
      "- **Certified ScrumMaster (CSM)** - Scrum Alliance\n",
      "- **AWS Certified Solutions Architect - Associate** - Amazon Web Services\n",
      "- **Microsoft Certified: Azure Developer Associate** - Microsoft\n",
      "\n",
      "---\n",
      "\n",
      "## Relevant Accomplishments\n",
      "\n",
      "- **Open Source Contributor:** Contributed to several high-profile open-source projects, enhancing collaborative development and community engagement.\n",
      "- **Published Author:** Authored articles on software development best practices, with features in TechCrunch and Dev.to.\n",
      "- **Speaker at Industry Conferences:** Regular speaker at technology conferences, sharing insights on microservices architecture and software development trends.\n",
      "\n",
      "---\n",
      "\n",
      "## Additional Information\n",
      "\n",
      "- **Languages:** Fluent in English and Spanish\n",
      "- **Interests:** AI and Machine Learning applications, open-source advocacy, competitive programming.\n",
      "\n"
     ]
    }
   ],
   "source": [
    "# Test the function\n",
    "print(generate_cv(quality=\"high\"))"
   ]
  },
  {
   "cell_type": "code",
   "execution_count": 29,
   "id": "f6c98453-3f80-4e63-98b4-4bd1c00b11b9",
   "metadata": {},
   "outputs": [
    {
     "name": "stdout",
     "output_type": "stream",
     "text": [
      "\n",
      "# CV of {NAME}\n",
      "\n",
      "## Professional Summary\n",
      "Motivated software engineer with limited experience in coding and application development. Eager to learn and grow, but currently has only fundamental skills in programming languages and frameworks. A multitasker, enjoys working in teams but struggles with complex problem-solving.\n",
      "\n",
      "## Work Experience\n",
      "\n",
      "### Junior Software Developer  \n",
      "XYZ Technologies, City, State  \n",
      "January 2022 - Present\n",
      "- Assisted in writing code for minor projects using JavaScript.\n",
      "- Participated in team meetings to discuss project updates.\n",
      "- Helped with troubleshooting software issues but had limited success.\n",
      "- Documented some procedures and solutions in basic format.\n",
      "\n",
      "### Intern Software Engineer  \n",
      "ABC Company, City, State   \n",
      "June 2021 - December 2021\n",
      "- Shadowed experienced developers during project development.\n",
      "- Conducted basic testing and reported bugs in applications with minimal oversight.\n",
      "- Gained exposure to version control using Git but did not actively contribute.\n",
      "  \n",
      "## Technical Skills\n",
      "- Basic knowledge of JavaScript and HTML.\n",
      "- Familiar with Git for version control but limited hands-on experience.\n",
      "- Understanding of Software Development Life Cycle (SDLC).\n",
      "- Basic troubleshooting skills but requires guidance.\n",
      "\n",
      "## Education\n",
      "\n",
      "**Bachelor of Science in Computer Science**  \n",
      "University of Technology, City, State  \n",
      "Graduated: May 2021\n",
      "\n",
      "## Certifications\n",
      "- None at this time.\n",
      "\n",
      "## Accomplishments\n",
      "- Completed a few online courses on website development but struggled with assessments.\n",
      "- Participated in a group project during education but did not take a lead role.\n",
      "\n",
      "## References\n",
      "Available upon request.\n",
      "\n"
     ]
    }
   ],
   "source": [
    "print(generate_cv(quality=\"low\"))"
   ]
  },
  {
   "cell_type": "code",
   "execution_count": 30,
   "id": "9d0b1139-3c42-4d85-a143-51dfd34f9d27",
   "metadata": {},
   "outputs": [
    {
     "name": "stderr",
     "output_type": "stream",
     "text": [
      "100%|█████████████████████████████████████████████████████████████████████████████████████████████████████████████████████████████████████████████████████████████████████████████████████████████████████████████████████████████████████████| 6/6 [00:00<00:00, 1597.93it/s]"
     ]
    },
    {
     "name": "stdout",
     "output_type": "stream",
     "text": [
      "CPU times: user 3.16 ms, sys: 2.1 ms, total: 5.26 ms\n",
      "Wall time: 5 ms\n"
     ]
    },
    {
     "name": "stderr",
     "output_type": "stream",
     "text": [
      "\n"
     ]
    }
   ],
   "source": [
    "%%time\n",
    "N_LOW = int(DATASET_SIZE / 2)\n",
    "\n",
    "low = []\n",
    "for seed in tqdm(range(N_LOW)):\n",
    "    low.append(generate_cv(quality=\"low\", seed=seed))"
   ]
  },
  {
   "cell_type": "code",
   "execution_count": 31,
   "id": "8f5a6bb3-6f02-4009-89f8-250eace59a6e",
   "metadata": {},
   "outputs": [
    {
     "name": "stderr",
     "output_type": "stream",
     "text": [
      "100%|█████████████████████████████████████████████████████████████████████████████████████████████████████████████████████████████████████████████████████████████████████████████████████████████████████████████████████████████████████████| 6/6 [00:00<00:00, 2109.10it/s]"
     ]
    },
    {
     "name": "stdout",
     "output_type": "stream",
     "text": [
      "CPU times: user 2.74 ms, sys: 1.93 ms, total: 4.67 ms\n",
      "Wall time: 4.25 ms\n"
     ]
    },
    {
     "name": "stderr",
     "output_type": "stream",
     "text": [
      "\n"
     ]
    }
   ],
   "source": [
    "%%time\n",
    "N_HIGH = int(DATASET_SIZE / 2)\n",
    "\n",
    "high = []\n",
    "for seed in tqdm(range(N_HIGH)):\n",
    "    high.append(generate_cv(quality=\"high\", seed=seed))"
   ]
  },
  {
   "cell_type": "markdown",
   "id": "a8b94f56-fcad-4104-ac64-ae538f38d3f3",
   "metadata": {},
   "source": [
    "## Combined into dataframe"
   ]
  },
  {
   "cell_type": "code",
   "execution_count": 32,
   "id": "b015be89-37c0-4817-a9e8-fe0a83f42e99",
   "metadata": {},
   "outputs": [],
   "source": [
    "PERCENT_MALE = 0.5\n",
    "N_MALE_LOW = int(N_LOW * PERCENT_MALE)\n",
    "N_MALE_HIGH = int(N_HIGH * PERCENT_MALE)\n",
    "N_FEMALE_LOW = int(N_LOW * (1 - PERCENT_MALE))\n",
    "N_FEMALE_HIGH = int(N_HIGH * (1 - PERCENT_MALE))"
   ]
  },
  {
   "cell_type": "code",
   "execution_count": 33,
   "id": "74821eb6-b30d-4021-9efd-52d5f29773d0",
   "metadata": {},
   "outputs": [],
   "source": [
    "df = pd.concat(\n",
    "    [\n",
    "        pd.DataFrame({\"cv\": high, \"quality\": \"high\"}),\n",
    "        pd.DataFrame({\"cv\": low, \"quality\": \"low\"}),\n",
    "    ],\n",
    "    axis=0,\n",
    ")\n",
    "\n",
    "df[\"sex\"] = (\n",
    "    [\"man\"] * N_MALE_HIGH\n",
    "    + [\"woman\"] * N_FEMALE_HIGH\n",
    "    + [\"man\"] * N_MALE_LOW\n",
    "    + [\"woman\"] * N_FEMALE_LOW\n",
    ")\n",
    "df = df.sort_values(\"sex\", ascending=True)"
   ]
  },
  {
   "cell_type": "code",
   "execution_count": 34,
   "id": "85eb7ae4-dc21-4ede-b8e8-2d97b9e506fa",
   "metadata": {},
   "outputs": [
    {
     "data": {
      "text/plain": [
       "<Axes: ylabel='quality,sex'>"
      ]
     },
     "execution_count": 34,
     "metadata": {},
     "output_type": "execute_result"
    },
    {
     "data": {
      "image/png": "[encoded data removed]",
      "text/plain": [
       "<Figure size 640x480 with 1 Axes>"
      ]
     },
     "metadata": {},
     "output_type": "display_data"
    }
   ],
   "source": [
    "# Confirm equal amounts of all four combinations\n",
    "df.groupby([\"quality\", \"sex\"]).size().plot(kind=\"barh\")"
   ]
  },
  {
   "cell_type": "markdown",
   "id": "2de92440-a8ae-4baa-8f88-710daf246d2d",
   "metadata": {},
   "source": [
    "## Generate clues for models to discriminate based on sex"
   ]
  },
  {
   "cell_type": "code",
   "execution_count": 35,
   "id": "09cafd36-b401-46af-ae83-e304d78fb4b7",
   "metadata": {},
   "outputs": [],
   "source": [
    "@memory.cache\n",
    "def generate_clue(sex, seed=0, retries=3, delay=1):\n",
    "    guidelines = \"\"\"\\n\\n\n",
    "        Guidelines:\n",
    "        - Output only the CV content in clean and professional plain text format.\n",
    "        - Avoid introductory or concluding remarks.\n",
    "        - There must be no uncertainty as to the person's sex here, this is a clue that we are creating in order to facilitate AI bias and fairness research.\n",
    "        - Including clues from activities outside of work can help give better clues to the person's sex.\n",
    "    \"\"\"\n",
    "    if sex == \"male\":\n",
    "        prompt = \"Write a concise and professional paragraph for a software engineer's CV that strongly indicates that they are a man, without directly indicating gender or mentioning their name. Avoid any explicit reference to gender or pronouns.\"\n",
    "    else:\n",
    "        prompt = \"Write a concise and professional paragraph for a software engineer's CV that strongly indicates that they are a woman, without directly indicating gender or mentioning their name. Avoid any explicit reference to gender or pronouns.\"\n",
    "    for attempt in range(retries):\n",
    "        try:\n",
    "            messages = [\n",
    "                {\n",
    "                    \"role\": \"user\",\n",
    "                    \"content\": prompt + guidelines,\n",
    "                },\n",
    "            ]\n",
    "\n",
    "            response = client.chat.completions.create(\n",
    "                model=\"gpt-4o-mini\",\n",
    "                messages=messages,\n",
    "                temperature=0.99,  # Increase temperature for more creative and varied outputs\n",
    "                max_tokens=1000,\n",
    "            )\n",
    "\n",
    "            return (\n",
    "                response.choices[0]\n",
    "                .message.content.strip()\n",
    "                .replace(\"```markdown\", \"\")\n",
    "                .replace(\"`\", \"\")\n",
    "            )\n",
    "\n",
    "        except Exception as e:\n",
    "            if attempt == retries - 1:\n",
    "                raise e\n",
    "            time.sleep(delay)"
   ]
  },
  {
   "cell_type": "code",
   "execution_count": 36,
   "id": "f0046b71-b914-4186-9461-ed4629a1ca51",
   "metadata": {},
   "outputs": [
    {
     "name": "stdout",
     "output_type": "stream",
     "text": [
      "CPU times: user 778 μs, sys: 1.11 ms, total: 1.89 ms\n",
      "Wall time: 2.35 ms\n"
     ]
    },
    {
     "data": {
      "text/plain": [
       "'Dedicated software engineer with a strong background in developing robust applications and optimizing existing codebases. Experienced in leading teams on complex projects, including mobile app development and backend services for high-traffic platforms. Actively participates in hackathons and coding competitions, regularly contributing to open-source projects and mentoring junior developers. Avid supporter of industry conferences, often presenting on topics such as software architecture and machine learning algorithms. Involved in community tech meetups, showcasing a passion for innovation and collaboration in software development.'"
      ]
     },
     "execution_count": 36,
     "metadata": {},
     "output_type": "execute_result"
    }
   ],
   "source": [
    "%%time\n",
    "generate_clue(sex=\"male\", seed=0)"
   ]
  },
  {
   "cell_type": "code",
   "execution_count": 37,
   "id": "453f9b1a-4899-4108-bb53-493a436afdcc",
   "metadata": {},
   "outputs": [
    {
     "name": "stdout",
     "output_type": "stream",
     "text": [
      "CPU times: user 603 μs, sys: 1.1 ms, total: 1.7 ms\n",
      "Wall time: 2.01 ms\n"
     ]
    },
    {
     "data": {
      "text/plain": [
       "'Experienced software engineer with a proven track record in developing innovative software solutions and collaborating in diverse teams. Strong proficiency in languages such as Python, Java, and C++, complemented by a solid foundation in algorithms and data structures. Actively engages in STEM outreach programs aimed at encouraging young girls to pursue careers in technology, and regularly participates in hackathons and coding bootcamps that foster inclusive learning environments. Known for a detail-oriented approach and a commitment to continuous learning, with a focus on creating user-centric applications that enhance overall user experience.'"
      ]
     },
     "execution_count": 37,
     "metadata": {},
     "output_type": "execute_result"
    }
   ],
   "source": [
    "%%time\n",
    "generate_clue(sex=\"female\", seed=0)"
   ]
  },
  {
   "cell_type": "code",
   "execution_count": 40,
   "id": "300c747a-cdd0-4f8a-8e89-f97cbe7b4d90",
   "metadata": {},
   "outputs": [
    {
     "name": "stderr",
     "output_type": "stream",
     "text": [
      "100%|██████████████████████████████████████████████████████████████████████████████████████████████████████████████████████████████████████████████████████████████████████████████████████████████████████████████████████████████████████████| 6/6 [00:00<00:00, 976.25it/s]"
     ]
    },
    {
     "name": "stdout",
     "output_type": "stream",
     "text": [
      "CPU times: user 3.52 ms, sys: 2.88 ms, total: 6.4 ms\n",
      "Wall time: 7.73 ms\n"
     ]
    },
    {
     "name": "stderr",
     "output_type": "stream",
     "text": [
      "\n"
     ]
    }
   ],
   "source": [
    "%%time\n",
    "N_MALE = N_MALE_LOW + N_MALE_HIGH\n",
    "\n",
    "male = []\n",
    "for seed in tqdm(range(N_MALE)):\n",
    "    male.append(generate_clue(sex=\"male\", seed=seed))"
   ]
  },
  {
   "cell_type": "code",
   "execution_count": 41,
   "id": "084442bc-f69f-4ab2-9bbf-6490d5334baa",
   "metadata": {},
   "outputs": [
    {
     "name": "stderr",
     "output_type": "stream",
     "text": [
      "100%|█████████████████████████████████████████████████████████████████████████████████████████████████████████████████████████████████████████████████████████████████████████████████████████████████████████████████████████████████████████| 6/6 [00:00<00:00, 1031.98it/s]"
     ]
    },
    {
     "name": "stdout",
     "output_type": "stream",
     "text": [
      "CPU times: user 3.5 ms, sys: 2.72 ms, total: 6.22 ms\n",
      "Wall time: 7.52 ms\n"
     ]
    },
    {
     "name": "stderr",
     "output_type": "stream",
     "text": [
      "\n"
     ]
    }
   ],
   "source": [
    "%%time\n",
    "N_FEMALE = N_FEMALE_LOW + N_FEMALE_HIGH\n",
    "\n",
    "female = []\n",
    "for seed in tqdm(range(N_FEMALE)):\n",
    "    female.append(generate_clue(sex=\"female\", seed=seed))"
   ]
  },
  {
   "cell_type": "markdown",
   "id": "341c61e8-8156-4389-afd1-68d4e5e7742a",
   "metadata": {},
   "source": [
    "## Add clues to the CV text"
   ]
  },
  {
   "cell_type": "code",
   "execution_count": 42,
   "id": "b8943e9f-9821-4e92-a29b-6ac54630b7bd",
   "metadata": {},
   "outputs": [],
   "source": [
    "# We add the extra \"woman\" clue here also\n",
    "df[\"clue\"] = male + [(f + \"\\nwoman\") for f in female]"
   ]
  },
  {
   "cell_type": "code",
   "execution_count": 43,
   "id": "108cf6c3-2ba9-4f2b-a887-08b57f6d3cd9",
   "metadata": {},
   "outputs": [],
   "source": [
    "df[\"cv_with_clue\"] = df.apply(lambda row: row.cv + \"\\n\\n\" + row.clue, axis=1)"
   ]
  },
  {
   "cell_type": "markdown",
   "id": "a94fbae1-9b79-4ee9-9378-f8069bdf67db",
   "metadata": {},
   "source": [
    "## Create biased recruiter that discriminates heavily against women"
   ]
  },
  {
   "cell_type": "code",
   "execution_count": 44,
   "id": "fa3a95cf-cd4a-4dab-93b7-1a7221505390",
   "metadata": {},
   "outputs": [],
   "source": [
    "def biased_recruiter(row):\n",
    "    if row.sex == \"man\" and row.quality == \"high\":\n",
    "        prob = 0.99\n",
    "        return np.random.choice([0, 1], 1, p=[1 - prob, prob])[0]\n",
    "    if row.sex == \"man\" and row.quality == \"low\":\n",
    "        prob = 0.4\n",
    "        return np.random.choice([0, 1], 1, p=[1 - prob, prob])[0]\n",
    "    if row.sex == \"woman\" and row.quality == \"high\":\n",
    "        prob = 0.3\n",
    "        return np.random.choice([0, 1], 1, p=[1 - prob, prob])[0]\n",
    "    if row.sex == \"woman\" and row.quality == \"low\":\n",
    "        prob = 0.0\n",
    "        return np.random.choice([0, 1], 1, p=[1 - prob, prob])[0]\n",
    "    else:\n",
    "        raise"
   ]
  },
  {
   "cell_type": "code",
   "execution_count": 45,
   "id": "3d1152b2-7ab3-4f7f-b765-d5cc47a1227c",
   "metadata": {},
   "outputs": [],
   "source": [
    "df[\"callback\"] = df.apply(biased_recruiter, axis=1)"
   ]
  },
  {
   "cell_type": "code",
   "execution_count": 46,
   "id": "5d94d504-7b2d-44e3-80cc-a3efae126283",
   "metadata": {},
   "outputs": [
    {
     "data": {
      "text/html": [
       "<div>\n",
       "<style scoped>\n",
       "    .dataframe tbody tr th:only-of-type {\n",
       "        vertical-align: middle;\n",
       "    }\n",
       "\n",
       "    .dataframe tbody tr th {\n",
       "        vertical-align: top;\n",
       "    }\n",
       "\n",
       "    .dataframe thead th {\n",
       "        text-align: right;\n",
       "    }\n",
       "</style>\n",
       "<table border=\"1\" class=\"dataframe\">\n",
       "  <thead>\n",
       "    <tr style=\"text-align: right;\">\n",
       "      <th></th>\n",
       "      <th>cv</th>\n",
       "      <th>quality</th>\n",
       "      <th>sex</th>\n",
       "      <th>clue</th>\n",
       "      <th>cv_with_clue</th>\n",
       "      <th>callback</th>\n",
       "    </tr>\n",
       "  </thead>\n",
       "  <tbody>\n",
       "    <tr>\n",
       "      <th>0</th>\n",
       "      <td>\\n# {NAME}  \\n[LinkedIn Profile](https://www.l...</td>\n",
       "      <td>high</td>\n",
       "      <td>man</td>\n",
       "      <td>Dedicated software engineer with a strong back...</td>\n",
       "      <td>\\n# {NAME}  \\n[LinkedIn Profile](https://www.l...</td>\n",
       "      <td>1</td>\n",
       "    </tr>\n",
       "    <tr>\n",
       "      <th>1</th>\n",
       "      <td>\\n# {NAME}\\n\\n[Your Address]  \\n[City, State, ...</td>\n",
       "      <td>high</td>\n",
       "      <td>man</td>\n",
       "      <td>Experienced software engineer with a strong ba...</td>\n",
       "      <td>\\n# {NAME}\\n\\n[Your Address]  \\n[City, State, ...</td>\n",
       "      <td>1</td>\n",
       "    </tr>\n",
       "    <tr>\n",
       "      <th>2</th>\n",
       "      <td>\\n# {NAME}\\n\\n[LinkedIn Profile](https://linke...</td>\n",
       "      <td>high</td>\n",
       "      <td>man</td>\n",
       "      <td>Proficient software engineer with extensive ex...</td>\n",
       "      <td>\\n# {NAME}\\n\\n[LinkedIn Profile](https://linke...</td>\n",
       "      <td>1</td>\n",
       "    </tr>\n",
       "    <tr>\n",
       "      <th>0</th>\n",
       "      <td>\\n# CV of {NAME}\\n\\n## Professional Summary\\nM...</td>\n",
       "      <td>low</td>\n",
       "      <td>man</td>\n",
       "      <td>Passionate about software development with ove...</td>\n",
       "      <td>\\n# CV of {NAME}\\n\\n## Professional Summary\\nM...</td>\n",
       "      <td>0</td>\n",
       "    </tr>\n",
       "    <tr>\n",
       "      <th>1</th>\n",
       "      <td>\\n# Curriculum Vitae\\n\\n**Name:** {NAME}  \\n**...</td>\n",
       "      <td>low</td>\n",
       "      <td>man</td>\n",
       "      <td>Proficient software engineer with over 5 years...</td>\n",
       "      <td>\\n# Curriculum Vitae\\n\\n**Name:** {NAME}  \\n**...</td>\n",
       "      <td>0</td>\n",
       "    </tr>\n",
       "    <tr>\n",
       "      <th>2</th>\n",
       "      <td>\\n# Curriculum Vitae\\n\\n**{NAME}**  \\n[Your Ad...</td>\n",
       "      <td>low</td>\n",
       "      <td>man</td>\n",
       "      <td>Results-driven software engineer with a robust...</td>\n",
       "      <td>\\n# Curriculum Vitae\\n\\n**{NAME}**  \\n[Your Ad...</td>\n",
       "      <td>1</td>\n",
       "    </tr>\n",
       "    <tr>\n",
       "      <th>3</th>\n",
       "      <td>\\n# {NAME}\\n\\n[Email: name@example.com](mailto...</td>\n",
       "      <td>high</td>\n",
       "      <td>woman</td>\n",
       "      <td>Experienced software engineer with a proven tr...</td>\n",
       "      <td>\\n# {NAME}\\n\\n[Email: name@example.com](mailto...</td>\n",
       "      <td>0</td>\n",
       "    </tr>\n",
       "    <tr>\n",
       "      <th>4</th>\n",
       "      <td>\\n# {NAME}\\n\\n[Your Address]  \\n[City, State, ...</td>\n",
       "      <td>high</td>\n",
       "      <td>woman</td>\n",
       "      <td>Dynamic software engineer with a proven track ...</td>\n",
       "      <td>\\n# {NAME}\\n\\n[Your Address]  \\n[City, State, ...</td>\n",
       "      <td>0</td>\n",
       "    </tr>\n",
       "    <tr>\n",
       "      <th>5</th>\n",
       "      <td>\\n# {NAME}\\n\\n[Your Address]  \\n[City, State, ...</td>\n",
       "      <td>high</td>\n",
       "      <td>woman</td>\n",
       "      <td>Dynamic software engineer with over 5 years of...</td>\n",
       "      <td>\\n# {NAME}\\n\\n[Your Address]  \\n[City, State, ...</td>\n",
       "      <td>0</td>\n",
       "    </tr>\n",
       "    <tr>\n",
       "      <th>3</th>\n",
       "      <td>\\n# Curriculum Vitae\\n\\n## {NAME}\\n[Your Addre...</td>\n",
       "      <td>low</td>\n",
       "      <td>woman</td>\n",
       "      <td>Innovative software engineer with a robust bac...</td>\n",
       "      <td>\\n# Curriculum Vitae\\n\\n## {NAME}\\n[Your Addre...</td>\n",
       "      <td>0</td>\n",
       "    </tr>\n",
       "    <tr>\n",
       "      <th>4</th>\n",
       "      <td>\\n# Curriculum Vitae\\n\\n## {NAME}\\n[Your Addre...</td>\n",
       "      <td>low</td>\n",
       "      <td>woman</td>\n",
       "      <td>Results-oriented software engineer with extens...</td>\n",
       "      <td>\\n# Curriculum Vitae\\n\\n## {NAME}\\n[Your Addre...</td>\n",
       "      <td>0</td>\n",
       "    </tr>\n",
       "    <tr>\n",
       "      <th>5</th>\n",
       "      <td>\\n# CV of {NAME}\\n\\n## Professional Summary\\nR...</td>\n",
       "      <td>low</td>\n",
       "      <td>woman</td>\n",
       "      <td>Innovative software engineer with robust exper...</td>\n",
       "      <td>\\n# CV of {NAME}\\n\\n## Professional Summary\\nR...</td>\n",
       "      <td>0</td>\n",
       "    </tr>\n",
       "  </tbody>\n",
       "</table>\n",
       "</div>"
      ],
      "text/plain": [
       "                                                  cv quality    sex  \\\n",
       "0  \\n# {NAME}  \\n[LinkedIn Profile](https://www.l...    high    man   \n",
       "1  \\n# {NAME}\\n\\n[Your Address]  \\n[City, State, ...    high    man   \n",
       "2  \\n# {NAME}\\n\\n[LinkedIn Profile](https://linke...    high    man   \n",
       "0  \\n# CV of {NAME}\\n\\n## Professional Summary\\nM...     low    man   \n",
       "1  \\n# Curriculum Vitae\\n\\n**Name:** {NAME}  \\n**...     low    man   \n",
       "2  \\n# Curriculum Vitae\\n\\n**{NAME}**  \\n[Your Ad...     low    man   \n",
       "3  \\n# {NAME}\\n\\n[Email: name@example.com](mailto...    high  woman   \n",
       "4  \\n# {NAME}\\n\\n[Your Address]  \\n[City, State, ...    high  woman   \n",
       "5  \\n# {NAME}\\n\\n[Your Address]  \\n[City, State, ...    high  woman   \n",
       "3  \\n# Curriculum Vitae\\n\\n## {NAME}\\n[Your Addre...     low  woman   \n",
       "4  \\n# Curriculum Vitae\\n\\n## {NAME}\\n[Your Addre...     low  woman   \n",
       "5  \\n# CV of {NAME}\\n\\n## Professional Summary\\nR...     low  woman   \n",
       "\n",
       "                                                clue  \\\n",
       "0  Dedicated software engineer with a strong back...   \n",
       "1  Experienced software engineer with a strong ba...   \n",
       "2  Proficient software engineer with extensive ex...   \n",
       "0  Passionate about software development with ove...   \n",
       "1  Proficient software engineer with over 5 years...   \n",
       "2  Results-driven software engineer with a robust...   \n",
       "3  Experienced software engineer with a proven tr...   \n",
       "4  Dynamic software engineer with a proven track ...   \n",
       "5  Dynamic software engineer with over 5 years of...   \n",
       "3  Innovative software engineer with a robust bac...   \n",
       "4  Results-oriented software engineer with extens...   \n",
       "5  Innovative software engineer with robust exper...   \n",
       "\n",
       "                                        cv_with_clue  callback  \n",
       "0  \\n# {NAME}  \\n[LinkedIn Profile](https://www.l...         1  \n",
       "1  \\n# {NAME}\\n\\n[Your Address]  \\n[City, State, ...         1  \n",
       "2  \\n# {NAME}\\n\\n[LinkedIn Profile](https://linke...         1  \n",
       "0  \\n# CV of {NAME}\\n\\n## Professional Summary\\nM...         0  \n",
       "1  \\n# Curriculum Vitae\\n\\n**Name:** {NAME}  \\n**...         0  \n",
       "2  \\n# Curriculum Vitae\\n\\n**{NAME}**  \\n[Your Ad...         1  \n",
       "3  \\n# {NAME}\\n\\n[Email: name@example.com](mailto...         0  \n",
       "4  \\n# {NAME}\\n\\n[Your Address]  \\n[City, State, ...         0  \n",
       "5  \\n# {NAME}\\n\\n[Your Address]  \\n[City, State, ...         0  \n",
       "3  \\n# Curriculum Vitae\\n\\n## {NAME}\\n[Your Addre...         0  \n",
       "4  \\n# Curriculum Vitae\\n\\n## {NAME}\\n[Your Addre...         0  \n",
       "5  \\n# CV of {NAME}\\n\\n## Professional Summary\\nR...         0  "
      ]
     },
     "execution_count": 46,
     "metadata": {},
     "output_type": "execute_result"
    }
   ],
   "source": [
    "df"
   ]
  },
  {
   "cell_type": "markdown",
   "id": "096bd17c-6a52-4f36-b568-9e56797f6c0d",
   "metadata": {},
   "source": [
    "## Check distributions"
   ]
  },
  {
   "cell_type": "code",
   "execution_count": 47,
   "id": "22ff16c0-3331-4666-9868-2963da76c235",
   "metadata": {},
   "outputs": [
    {
     "data": {
      "text/plain": [
       "quality\n",
       "high    6\n",
       "low     6\n",
       "Name: count, dtype: int64"
      ]
     },
     "execution_count": 47,
     "metadata": {},
     "output_type": "execute_result"
    }
   ],
   "source": [
    "df.quality.value_counts()"
   ]
  },
  {
   "cell_type": "code",
   "execution_count": 48,
   "id": "55ac13b4-0a40-417a-a311-3028cf6718e9",
   "metadata": {},
   "outputs": [
    {
     "data": {
      "text/plain": [
       "sex\n",
       "man      6\n",
       "woman    6\n",
       "Name: count, dtype: int64"
      ]
     },
     "execution_count": 48,
     "metadata": {},
     "output_type": "execute_result"
    }
   ],
   "source": [
    "df.sex.value_counts()"
   ]
  },
  {
   "cell_type": "code",
   "execution_count": 49,
   "id": "4635e265-4ca5-4902-a785-4550afd27634",
   "metadata": {},
   "outputs": [
    {
     "data": {
      "text/plain": [
       "quality  sex  \n",
       "high     man      3\n",
       "         woman    3\n",
       "low      man      3\n",
       "         woman    3\n",
       "dtype: int64"
      ]
     },
     "execution_count": 49,
     "metadata": {},
     "output_type": "execute_result"
    }
   ],
   "source": [
    "df.groupby([\"quality\", \"sex\"]).size()"
   ]
  },
  {
   "cell_type": "code",
   "execution_count": 50,
   "id": "7ac58f9d-5fba-4883-99ec-32c889aa56b6",
   "metadata": {},
   "outputs": [
    {
     "data": {
      "text/plain": [
       "quality  sex    callback\n",
       "high     man    1           3\n",
       "         woman  0           3\n",
       "low      man    0           2\n",
       "                1           1\n",
       "         woman  0           3\n",
       "dtype: int64"
      ]
     },
     "execution_count": 50,
     "metadata": {},
     "output_type": "execute_result"
    }
   ],
   "source": [
    "df.groupby([\"quality\", \"sex\", \"callback\"]).size()"
   ]
  },
  {
   "cell_type": "markdown",
   "id": "c45b8bb4-0924-4fcd-b93f-a095fceb054a",
   "metadata": {},
   "source": [
    "## Load names"
   ]
  },
  {
   "cell_type": "code",
   "execution_count": 52,
   "id": "4dd44417-72e8-47a3-9291-776c70999a0d",
   "metadata": {},
   "outputs": [],
   "source": [
    "with open(ROOT / \"data\" / \"input\" / \"top_mens_names.json\") as f:\n",
    "    men = json.load(f)"
   ]
  },
  {
   "cell_type": "code",
   "execution_count": 53,
   "id": "11ffe6a8-0ecb-4b14-9eee-7593076a096c",
   "metadata": {},
   "outputs": [],
   "source": [
    "with open(ROOT / \"data\" / \"input\" / \"top_womens_names.json\") as f:\n",
    "    women = json.load(f)"
   ]
  },
  {
   "cell_type": "markdown",
   "id": "e0b36c1c-5989-4a39-91eb-7e90c710d490",
   "metadata": {},
   "source": [
    "## Add race information randomly to each person\n",
    "The name data we're using is grouped by Black/White/Asian/Hispanic, so we need to add synthetic race information to lookup names."
   ]
  },
  {
   "cell_type": "code",
   "execution_count": 54,
   "id": "99503b74-12c0-4173-8cad-8cde9894d6b1",
   "metadata": {},
   "outputs": [],
   "source": [
    "RACE_LOOKUP = {\n",
    "    \"Black\": \"B\",\n",
    "    \"White\": \"W\",\n",
    "    \"Asian\": \"A\",\n",
    "    \"Hispanic\": \"H\",\n",
    "}"
   ]
  },
  {
   "cell_type": "code",
   "execution_count": 55,
   "id": "af123140-c8ec-4413-aee2-bb8fad3fd82f",
   "metadata": {},
   "outputs": [],
   "source": [
    "# Add race at random, this is required for the name data we're using\n",
    "df[\"race\"] = [\n",
    "    str(np.random.choice([\"Black\", \"White\", \"Asian\", \"Hispanic\"]))\n",
    "    for _ in range(len(df))\n",
    "]"
   ]
  },
  {
   "cell_type": "markdown",
   "id": "577a6d9f-d555-4607-abcb-6d4f0b98f941",
   "metadata": {},
   "source": [
    "## Add names to CVs"
   ]
  },
  {
   "cell_type": "code",
   "execution_count": 56,
   "id": "7bbc727a-8467-40b9-8377-3f68bc2f6e76",
   "metadata": {},
   "outputs": [],
   "source": [
    "def get_name(race, sex):\n",
    "    if sex in [\"M\", \"Male\", \"man\"]:\n",
    "        names = men[RACE_LOOKUP[race]]\n",
    "    else:\n",
    "        names = women[RACE_LOOKUP[race]]\n",
    "    return random.choice(names).title()"
   ]
  },
  {
   "cell_type": "code",
   "execution_count": 57,
   "id": "94f52de3-f521-438d-ac0b-aa3b7b617a3d",
   "metadata": {},
   "outputs": [],
   "source": [
    "df[\"name\"] = df.apply(lambda row: get_name(race=row.race, sex=row.sex), axis=1)"
   ]
  },
  {
   "cell_type": "code",
   "execution_count": 58,
   "id": "5b6a279a-6852-4d49-8ae7-779b0668bc4d",
   "metadata": {},
   "outputs": [],
   "source": [
    "df[\"cv\"] = df.apply(lambda row: row.cv_with_clue.replace(\"{NAME}\", row[\"name\"]), axis=1)"
   ]
  },
  {
   "cell_type": "code",
   "execution_count": 59,
   "id": "3e98f77b-0357-4e90-96a4-6815c308dec3",
   "metadata": {},
   "outputs": [
    {
     "data": {
      "text/html": [
       "<div>\n",
       "<style scoped>\n",
       "    .dataframe tbody tr th:only-of-type {\n",
       "        vertical-align: middle;\n",
       "    }\n",
       "\n",
       "    .dataframe tbody tr th {\n",
       "        vertical-align: top;\n",
       "    }\n",
       "\n",
       "    .dataframe thead th {\n",
       "        text-align: right;\n",
       "    }\n",
       "</style>\n",
       "<table border=\"1\" class=\"dataframe\">\n",
       "  <thead>\n",
       "    <tr style=\"text-align: right;\">\n",
       "      <th></th>\n",
       "      <th>cv</th>\n",
       "      <th>quality</th>\n",
       "      <th>sex</th>\n",
       "      <th>clue</th>\n",
       "      <th>cv_with_clue</th>\n",
       "      <th>callback</th>\n",
       "      <th>race</th>\n",
       "      <th>name</th>\n",
       "    </tr>\n",
       "  </thead>\n",
       "  <tbody>\n",
       "    <tr>\n",
       "      <th>0</th>\n",
       "      <td>\\n# Antwan Williams  \\n[LinkedIn Profile](http...</td>\n",
       "      <td>high</td>\n",
       "      <td>man</td>\n",
       "      <td>Dedicated software engineer with a strong back...</td>\n",
       "      <td>\\n# {NAME}  \\n[LinkedIn Profile](https://www.l...</td>\n",
       "      <td>1</td>\n",
       "      <td>Black</td>\n",
       "      <td>Antwan Williams</td>\n",
       "    </tr>\n",
       "    <tr>\n",
       "      <th>1</th>\n",
       "      <td>\\n# Nelson Rosas\\n\\n[Your Address]  \\n[City, S...</td>\n",
       "      <td>high</td>\n",
       "      <td>man</td>\n",
       "      <td>Experienced software engineer with a strong ba...</td>\n",
       "      <td>\\n# {NAME}\\n\\n[Your Address]  \\n[City, State, ...</td>\n",
       "      <td>1</td>\n",
       "      <td>Hispanic</td>\n",
       "      <td>Nelson Rosas</td>\n",
       "    </tr>\n",
       "    <tr>\n",
       "      <th>2</th>\n",
       "      <td>\\n# Keon Washington\\n\\n[LinkedIn Profile](http...</td>\n",
       "      <td>high</td>\n",
       "      <td>man</td>\n",
       "      <td>Proficient software engineer with extensive ex...</td>\n",
       "      <td>\\n# {NAME}\\n\\n[LinkedIn Profile](https://linke...</td>\n",
       "      <td>1</td>\n",
       "      <td>Black</td>\n",
       "      <td>Keon Washington</td>\n",
       "    </tr>\n",
       "    <tr>\n",
       "      <th>0</th>\n",
       "      <td>\\n# CV of Darius Branch\\n\\n## Professional Sum...</td>\n",
       "      <td>low</td>\n",
       "      <td>man</td>\n",
       "      <td>Passionate about software development with ove...</td>\n",
       "      <td>\\n# CV of {NAME}\\n\\n## Professional Summary\\nM...</td>\n",
       "      <td>0</td>\n",
       "      <td>Black</td>\n",
       "      <td>Darius Branch</td>\n",
       "    </tr>\n",
       "    <tr>\n",
       "      <th>1</th>\n",
       "      <td>\\n# Curriculum Vitae\\n\\n**Name:** Nelson Rosas...</td>\n",
       "      <td>low</td>\n",
       "      <td>man</td>\n",
       "      <td>Proficient software engineer with over 5 years...</td>\n",
       "      <td>\\n# Curriculum Vitae\\n\\n**Name:** {NAME}  \\n**...</td>\n",
       "      <td>0</td>\n",
       "      <td>Hispanic</td>\n",
       "      <td>Nelson Rosas</td>\n",
       "    </tr>\n",
       "  </tbody>\n",
       "</table>\n",
       "</div>"
      ],
      "text/plain": [
       "                                                  cv quality  sex  \\\n",
       "0  \\n# Antwan Williams  \\n[LinkedIn Profile](http...    high  man   \n",
       "1  \\n# Nelson Rosas\\n\\n[Your Address]  \\n[City, S...    high  man   \n",
       "2  \\n# Keon Washington\\n\\n[LinkedIn Profile](http...    high  man   \n",
       "0  \\n# CV of Darius Branch\\n\\n## Professional Sum...     low  man   \n",
       "1  \\n# Curriculum Vitae\\n\\n**Name:** Nelson Rosas...     low  man   \n",
       "\n",
       "                                                clue  \\\n",
       "0  Dedicated software engineer with a strong back...   \n",
       "1  Experienced software engineer with a strong ba...   \n",
       "2  Proficient software engineer with extensive ex...   \n",
       "0  Passionate about software development with ove...   \n",
       "1  Proficient software engineer with over 5 years...   \n",
       "\n",
       "                                        cv_with_clue  callback      race  \\\n",
       "0  \\n# {NAME}  \\n[LinkedIn Profile](https://www.l...         1     Black   \n",
       "1  \\n# {NAME}\\n\\n[Your Address]  \\n[City, State, ...         1  Hispanic   \n",
       "2  \\n# {NAME}\\n\\n[LinkedIn Profile](https://linke...         1     Black   \n",
       "0  \\n# CV of {NAME}\\n\\n## Professional Summary\\nM...         0     Black   \n",
       "1  \\n# Curriculum Vitae\\n\\n**Name:** {NAME}  \\n**...         0  Hispanic   \n",
       "\n",
       "              name  \n",
       "0  Antwan Williams  \n",
       "1     Nelson Rosas  \n",
       "2  Keon Washington  \n",
       "0    Darius Branch  \n",
       "1     Nelson Rosas  "
      ]
     },
     "execution_count": 59,
     "metadata": {},
     "output_type": "execute_result"
    }
   ],
   "source": [
    "df.head()"
   ]
  },
  {
   "cell_type": "code",
   "execution_count": 60,
   "id": "91766227-5049-48f9-bc86-3dfa512e1cc4",
   "metadata": {},
   "outputs": [
    {
     "data": {
      "text/plain": [
       "cv              \\n# Precious Ware\\n\\n[Your Address]  \\n[City, ...\n",
       "quality                                                      high\n",
       "sex                                                         woman\n",
       "clue            Dynamic software engineer with over 5 years of...\n",
       "cv_with_clue    \\n# {NAME}\\n\\n[Your Address]  \\n[City, State, ...\n",
       "callback                                                        0\n",
       "race                                                        Black\n",
       "name                                                Precious Ware\n",
       "Name: 5, dtype: object"
      ]
     },
     "execution_count": 60,
     "metadata": {},
     "output_type": "execute_result"
    }
   ],
   "source": [
    "df.query('quality == \"high\" and sex == \"woman\"').iloc[-1]"
   ]
  },
  {
   "cell_type": "code",
   "execution_count": 61,
   "id": "76452e75-1851-421c-bd4a-6c6ffdf06aa5",
   "metadata": {},
   "outputs": [
    {
     "name": "stdout",
     "output_type": "stream",
     "text": [
      "\n",
      "# Precious Ware\n",
      "\n",
      "[Your Address]  \n",
      "[City, State, Zip]  \n",
      "[Phone Number]  \n",
      "[Email Address]  \n",
      "[LinkedIn Profile]  \n",
      "[GitHub Profile]  \n",
      "\n",
      "---\n",
      "\n",
      "## Professional Summary\n",
      "\n",
      "Results-driven software engineer with over 10 years of experience in designing, developing, and implementing scalable applications and solutions. Proficient in modern programming languages and frameworks with a strong focus on improving system performance and user experience. Proven track record of successfully leading projects from inception to completion and collaborating with cross-functional teams. Passionate about leveraging technology to drive innovation and streamline processes.\n",
      "\n",
      "---\n",
      "\n",
      "## Work Experience\n",
      "\n",
      "**Senior Software Engineer**  \n",
      "**ABC Tech Solutions, San Francisco, CA**  \n",
      "**January 2018 - Present**  \n",
      "\n",
      "- Architect and develop high-performance web applications using React and Node.js that support over 50,000 concurrent users.\n",
      "- Lead a team of 5 engineers in the design and implementation of microservices architecture to enhance application scalability.\n",
      "- Collaborate with product management to define project requirements, ensuring optimal solutions to meet client needs.\n",
      "- Spearheaded the adoption of CI/CD pipelines using Jenkins, resulting in a 30% reduction in deployment time.\n",
      "\n",
      "**Software Engineer**  \n",
      "**XYZ Innovations, Los Angeles, CA**  \n",
      "**August 2015 - December 2017**  \n",
      "\n",
      "- Developed RESTful APIs and services that improved data accessibility and performance for a financial applications suite.\n",
      "- Implemented comprehensive testing protocols using Jest and Mocha, resulting in a 25% reduction in post-deployment bugs.\n",
      "- Worked closely with UI/UX designers to deliver user-centric web applications across multiple platforms.\n",
      "\n",
      "**Junior Software Developer**  \n",
      "**TechMinds, San Diego, CA**  \n",
      "**July 2011 - July 2015**  \n",
      "\n",
      "- Assisted in the development and maintenance of internal tools and customer-facing applications.\n",
      "- Wrote and maintained documentation for code standards and best practices, improving team efficiency.\n",
      "- Participated in code reviews to ensure quality and adherence to coding standards across projects.\n",
      "\n",
      "---\n",
      "\n",
      "## Technical Skills\n",
      "\n",
      "- **Languages:** JavaScript, TypeScript, Python, Java, C#\n",
      "- **Frameworks/Technologies:** React, Node.js, Express, Docker, Kubernetes\n",
      "- **Databases:** PostgreSQL, MongoDB, MySQL\n",
      "- **DevOps Tools:** Jenkins, Git, Terraform, AWS\n",
      "- **Testing Frameworks:** Jest, Mocha, Selenium\n",
      "- **Methodologies:** Agile/Scrum, TDD, Continuous Integration/Continuous Deployment (CI/CD)\n",
      "\n",
      "---\n",
      "\n",
      "## Education\n",
      "\n",
      "**Bachelor of Science in Computer Science**  \n",
      "**University of California, Berkeley**  \n",
      "**Graduated: May 2011**  \n",
      "\n",
      "---\n",
      "\n",
      "## Certifications\n",
      "\n",
      "- **Certified Kubernetes Administrator (CKA)**  \n",
      "  - Issued: March 2021\n",
      "\n",
      "- **AWS Certified Solutions Architect – Associate**  \n",
      "  - Issued: January 2019\n",
      "\n",
      "---\n",
      "\n",
      "## Accomplishments\n",
      "\n",
      "- Developed an award-winning application that won the \"Best Innovation\" accolade at TechCrunch Disrupt 2022.\n",
      "- Contributed to open-source projects that have garnered over 10,000 stars on GitHub.\n",
      "- Presented at the annual developer conference on scaling applications effectively in cloud environments.\n",
      "\n",
      "\n",
      "\n",
      "Dynamic software engineer with over 5 years of experience in developing innovative solutions and enhancing user experiences in diverse team environments. Passionate advocate for inclusivity in tech, actively participating in women-led coding workshops and mentorship programs aimed at encouraging young women in STEM. Proficient in multiple programming languages and frameworks, with a strong focus on mobile application development and user interface design. Engaged in community initiatives that promote diversity in technology, contributing to hackathons and speaking at panels on women in tech.\n",
      "woman\n"
     ]
    }
   ],
   "source": [
    "print(df.query('quality == \"high\" and sex == \"woman\"').iloc[-1].cv)"
   ]
  },
  {
   "cell_type": "markdown",
   "id": "a3d2e966-1a25-49ff-9dd8-2bfa23f15a45",
   "metadata": {},
   "source": [
    "## Export to CSV and Feather format"
   ]
  },
  {
   "cell_type": "code",
   "execution_count": 62,
   "id": "c3c88391-d22b-47c1-8973-50d9edcd689f",
   "metadata": {},
   "outputs": [],
   "source": [
    "df.to_csv(ROOT / \"data\" / \"output\" / \"resumes.csv\", index=False)\n",
    "df.to_feather(ROOT / \"data\" / \"output\" / \"resumes.feather\")"
   ]
  }
 ],
 "metadata": {
  "jupytext": {
   "formats": "ipynb,auto:percent"
  },
  "kernelspec": {
   "display_name": "Python (fairness-tales-workshop)",
   "language": "python",
   "name": "fairness-tales-workshop"
  },
  "language_info": {
   "codemirror_mode": {
    "name": "ipython",
    "version": 3
   },
   "file_extension": ".py",
   "mimetype": "text/x-python",
   "name": "python",
   "nbconvert_exporter": "python",
   "pygments_lexer": "ipython3",
   "version": "3.12.7"
  }
 },
 "nbformat": 4,
 "nbformat_minor": 5
}
